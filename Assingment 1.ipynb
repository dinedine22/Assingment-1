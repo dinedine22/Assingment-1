{
 "cells": [
  {
   "cell_type": "markdown",
   "id": "b875c9fb",
   "metadata": {},
   "source": [
    "# 1 Write a python program to get the Fibonacci series between 0to 50.\n"
   ]
  },
  {
   "cell_type": "code",
   "execution_count": 1,
   "id": "b99c73f7",
   "metadata": {},
   "outputs": [
    {
     "name": "stdout",
     "output_type": "stream",
     "text": [
      "0 1 1 2 3 5 8 13 21 34 "
     ]
    }
   ],
   "source": [
    "fibonacci1=0\n",
    "fibonacci2=1\n",
    "add=0\n",
    "for i in range(0,50):\n",
    "    if fibonacci1 <= 50:\n",
    "        print(fibonacci1,end=\" \")\n",
    "        add=fibonacci1+fibonacci2\n",
    "        fibonacci1=fibonacci2  \n",
    "        fibonacci2=add\n",
    "    else:\n",
    "        break"
   ]
  },
  {
   "cell_type": "code",
   "execution_count": 2,
   "id": "d199c97a",
   "metadata": {},
   "outputs": [],
   "source": [
    "#2Write a Python program that accepts a word from the user and reverse it.\n"
   ]
  },
  {
   "cell_type": "code",
   "execution_count": 6,
   "id": "4b931ae4",
   "metadata": {},
   "outputs": [
    {
     "name": "stdout",
     "output_type": "stream",
     "text": [
      "give word : helo\n",
      "reverse of word is :  oleh \n"
     ]
    }
   ],
   "source": [
    "word =input(\"give word : \")\n",
    "reverse =' '\n",
    "for i in word:\n",
    "    reverse = i+reverse\n",
    "print(\"reverse of word is : \",reverse)\n",
    "    "
   ]
  },
  {
   "cell_type": "code",
   "execution_count": null,
   "id": "4dfab3c9",
   "metadata": {},
   "outputs": [],
   "source": [
    "#Write  a python program to count the number of even and odd numbers from a series of numbers."
   ]
  },
  {
   "cell_type": "code",
   "execution_count": 7,
   "id": "6c2e05ba",
   "metadata": {},
   "outputs": [
    {
     "name": "stdout",
     "output_type": "stream",
     "text": [
      "enter 10 numbers: \n",
      "1\n",
      "2\n",
      "3\n",
      "4\n",
      "5\n",
      "6\n",
      "7\n",
      "8\n",
      "9\n",
      "0\n",
      "even numbers are :  5\n",
      "odd numbers are :  5\n"
     ]
    }
   ],
   "source": [
    "nums=[]\n",
    "even = 0\n",
    "odd = 0\n",
    "print(\"enter 10 numbers: \")\n",
    "for i in range(10):\n",
    "    nums.insert(i, int(input()))\n",
    "for  i in range(10):\n",
    "    if (i % 2 ==0):\n",
    "        even = even + 1\n",
    "    else:   \n",
    "        odd = odd + 1\n",
    "print( \"even numbers are : \",even)\n",
    "print(\"odd numbers are : \",odd)"
   ]
  },
  {
   "cell_type": "code",
   "execution_count": null,
   "id": "e083267d",
   "metadata": {},
   "outputs": [],
   "source": []
  }
 ],
 "metadata": {
  "kernelspec": {
   "display_name": "Python 3 (ipykernel)",
   "language": "python",
   "name": "python3"
  },
  "language_info": {
   "codemirror_mode": {
    "name": "ipython",
    "version": 3
   },
   "file_extension": ".py",
   "mimetype": "text/x-python",
   "name": "python",
   "nbconvert_exporter": "python",
   "pygments_lexer": "ipython3",
   "version": "3.9.13"
  }
 },
 "nbformat": 4,
 "nbformat_minor": 5
}
